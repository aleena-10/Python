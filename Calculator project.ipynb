{
 "cells": [
  {
   "cell_type": "code",
   "execution_count": 7,
   "id": "d1558b16",
   "metadata": {},
   "outputs": [],
   "source": [
    "from tkinter import *\n",
    "window=Tk()\n",
    "window.title('simple calculator')\n",
    "window.geometry('570x600')\n",
    "window.configure(bg='black')\n",
    "equation=''\n",
    "def show(value):\n",
    "    global equation\n",
    "    equation=equation+value\n",
    "    label.config(text=equation)T\n",
    "def clear():\n",
    "    global equation\n",
    "    equation=''\n",
    "    label.config(text=equation)\n",
    "def calculate():\n",
    "    global equation\n",
    "    result=''\n",
    "    if equation !='':\n",
    "        try:\n",
    "            result=eval(equation)\n",
    "        except:\n",
    "            result='error'\n",
    "            equation=''\n",
    "    label.config(text=result)   \n",
    "    \n",
    "\n",
    "label=Label(window,width=25,height=2,text='',font=('arial',30))\n",
    "label.pack()\n",
    "Button(window,text='C',width=5,height=1,font=('arial',30,'bold'),bd=1,fg='blue',bg='red',command=lambda:clear()).place(x=10,y=100)\n",
    "Button(window,text='/',width=5,height=1,font=('arial',30,'bold'),bd=1,fg='blue',bg='grey',command=lambda:show('/')).place(x=150,y=100)\n",
    "Button(window,text='%',width=5,height=1,font=('arial',30,'bold'),bd=1,fg='blue',bg='grey',command=lambda:show('%')).place(x=290,y=100)\n",
    "Button(window,text='*',width=5,height=1,font=('arial',30,'bold'),bd=1,fg='blue',bg='grey',command=lambda:show('*')).place(x=430,y=100)\n",
    "\n",
    "Button(window,text='7',width=5,height=1,font=('arial',30,'bold'),bd=1,fg='blue',bg='grey',command=lambda:show('7')).place(x=10,y=200)\n",
    "Button(window,text='8',width=5,height=1,font=('arial',30,'bold'),bd=1,fg='blue',bg='grey',command=lambda:show('8')).place(x=150,y=200)\n",
    "Button(window,text='9',width=5,height=1,font=('arial',30,'bold'),bd=1,fg='blue',bg='grey',command=lambda:show('9')).place(x=290,y=200)\n",
    "Button(window,text='+',width=5,height=1,font=('arial',30,'bold'),bd=1,fg='blue',bg='grey',command=lambda:show('+')).place(x=430,y=200)\n",
    "\n",
    "Button(window,text='4',width=5,height=1,font=('arial',30,'bold'),bd=1,fg='blue',bg='grey',command=lambda:show('4')).place(x=10,y=300)\n",
    "Button(window,text='5',width=5,height=1,font=('arial',30,'bold'),bd=1,fg='blue',bg='grey',command=lambda:show('5')).place(x=150,y=300)\n",
    "Button(window,text='6',width=5,height=1,font=('arial',30,'bold'),bd=1,fg='blue',bg='grey',command=lambda:show('6')).place(x=290,y=300)\n",
    "Button(window,text='-',width=5,height=1,font=('arial',30,'bold'),bd=1,fg='blue',bg='grey',command=lambda:show('-')).place(x=430,y=300)\n",
    "\n",
    "Button(window,text='1',width=5,height=1,font=('arial',30,'bold'),bd=1,fg='blue',bg='grey',command=lambda:show('1')).place(x=10,y=400)\n",
    "Button(window,text='2',width=5,height=1,font=('arial',30,'bold'),bd=1,fg='blue',bg='grey',command=lambda:show('2')).place(x=150,y=400)\n",
    "Button(window,text='3',width=5,height=1,font=('arial',30,'bold'),bd=1,fg='blue',bg='grey',command=lambda:show('3')).place(x=290,y=400)\n",
    "Button(window,text='0',width=11,height=1,font=('arial',30,'bold'),bd=1,fg='blue',bg='grey',command=lambda:show('0')).place(x=10,y=500)\n",
    "\n",
    "Button(window,text='.',width=5,height=1,font=('arial',30,'bold'),bd=1,fg='blue',bg='grey',command=lambda:show('.')).place(x=290,y=500)\n",
    "Button(window,text='=',width=5,height=3,font=('arial',30,'bold'),bd=1,fg='blue',bg='grey',command=lambda:calculate()).place(x=430,y=400)\n",
    "\n",
    "\n",
    "\n",
    "\n",
    "\n",
    "\n",
    "window.mainloop()\n"
   ]
  },
  {
   "cell_type": "code",
   "execution_count": null,
   "id": "98e0c513",
   "metadata": {},
   "outputs": [],
   "source": []
  },
  {
   "cell_type": "code",
   "execution_count": null,
   "id": "f9611145",
   "metadata": {},
   "outputs": [],
   "source": []
  },
  {
   "cell_type": "code",
   "execution_count": null,
   "id": "599f61dc",
   "metadata": {},
   "outputs": [],
   "source": []
  }
 ],
 "metadata": {
  "kernelspec": {
   "display_name": "Python 3 (ipykernel)",
   "language": "python",
   "name": "python3"
  },
  "language_info": {
   "codemirror_mode": {
    "name": "ipython",
    "version": 3
   },
   "file_extension": ".py",
   "mimetype": "text/x-python",
   "name": "python",
   "nbconvert_exporter": "python",
   "pygments_lexer": "ipython3",
   "version": "3.11.5"
  }
 },
 "nbformat": 4,
 "nbformat_minor": 5
}
